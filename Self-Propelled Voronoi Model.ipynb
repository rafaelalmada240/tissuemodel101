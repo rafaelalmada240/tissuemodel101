{
 "cells": [
  {
   "attachments": {},
   "cell_type": "markdown",
   "metadata": {},
   "source": [
    "Import some possible required packages"
   ]
  },
  {
   "cell_type": "code",
   "execution_count": 2,
   "metadata": {
    "ExecuteTime": {
     "end_time": "2022-12-28T18:00:07.093370Z",
     "start_time": "2022-12-28T17:59:39.108428Z"
    }
   },
   "outputs": [],
   "source": [
    "import numpy as np\n",
    "import matplotlib.pyplot as plt\n",
    "import scipy as scp\n",
    "from scipy.spatial import Voronoi, voronoi_plot_2d\n",
    "from scipy.interpolate import interp2d, LinearNDInterpolator\n",
    "import movies_from_plots as mfp\n",
    "import selfpropelledparticlevoronoi as sppv\n",
    "import pathlib\n",
    "from scipy import ndimage as nd \n",
    "import h5py as h5\n",
    "import importlib"
   ]
  },
  {
   "cell_type": "code",
   "execution_count": null,
   "metadata": {
    "ExecuteTime": {
     "end_time": "2022-11-17T16:32:59.479397Z",
     "start_time": "2022-11-17T16:32:59.433396Z"
    }
   },
   "outputs": [],
   "source": [
    "importlib.reload(mfp)\n",
    "importlib.reload(sppv)"
   ]
  },
  {
   "attachments": {},
   "cell_type": "markdown",
   "metadata": {},
   "source": [
    "The model implemented is of the form:\n",
    "\n",
    "For a center $c_i$\n",
    "\n",
    "$$F_i = \\sum_{v_\\mu \\in N_i}{f_{\\mu i}}$$\n",
    "\n",
    "For a vertex $v_\\mu$\n",
    "$$F_\\mu = \\sum_{c_i \\in N_\\mu}{f_{i\\mu}} + \\sum_{v_\\nu \\in N_\\mu}{f_{\\nu\\mu}}$$ \n",
    "\n",
    "Where \n",
    "\n",
    "$$f_{ab} = -k(r_{ab}-r_0)\\hat{n}_{ab}$$"
   ]
  },
  {
   "cell_type": "code",
   "execution_count": null,
   "metadata": {},
   "outputs": [],
   "source": [
    "import runspringnetsimul as rsns\n",
    "rsns"
   ]
  },
  {
   "cell_type": "code",
   "execution_count": null,
   "metadata": {},
   "outputs": [],
   "source": [
    "import makefiguresandgraphics as mfag\n",
    "\n",
    "mfag"
   ]
  },
  {
   "cell_type": "code",
   "execution_count": null,
   "metadata": {},
   "outputs": [],
   "source": [
    "import makenetworkmovie as mnwm\n",
    "mnwm"
   ]
  },
  {
   "cell_type": "code",
   "execution_count": null,
   "metadata": {},
   "outputs": [],
   "source": [
    "import movieforcefieldmovie as mffm\n",
    "mffm"
   ]
  },
  {
   "cell_type": "code",
   "execution_count": null,
   "metadata": {},
   "outputs": [],
   "source": [
    "filename = input('Video file name (with .mp4 included): ')\n",
    "img_array,size = mfp.loadframe(0,498,1,'f')\n",
    "mfp.savevideo(img_array,filename,size,'f')"
   ]
  },
  {
   "attachments": {},
   "cell_type": "markdown",
   "metadata": {},
   "source": [
    "A model for T1 transition might possibly be:\n",
    "\n",
    "for 2 vertices $A$ and $B$, if their distance $|\\vec{AB}|$ is less than or equal to a threshold value, they change their coordinate positions to: \n",
    "\n",
    "$$\n",
    "\n",
    "(A',B') = \\frac{\\sqrt{3}}{2}(R_{\\pm \\pi/2}\\vec{AB}+1/2\\vec{AB}) \n",
    "\n",
    "$$\n",
    "\n",
    "The transition can be modelled in two different ways:\n",
    "\n",
    "1 - We describe a simple discrete model where \n",
    "\n",
    "$$\n",
    "P[(A,B)\\rightarrow(A',B')]=\n",
    "\\begin{cases}\n",
    "0, & \\text{for } |\\vec{AB}| > l_\\text{thresh}\\\\\n",
    "1,  & \\text{for } |\\vec{AB}| \\leq l_\\text{thresh}\n",
    "\\end{cases}\n",
    "$$\n",
    "\n",
    "2 - Or we can follow a more continuous, physically inspired approach, where:\n",
    "\n",
    "$$\n",
    "\n",
    "P[(A,B)\\rightarrow(A',B')] \\propto \\exp{(-\\beta K |\\vec{AB}|²)}\n",
    "\n",
    "$$\n",
    "\n",
    "3 - A mixed approach could be helpful to ensure the transition occurs at a reasonable rate.\n",
    "\n",
    "$$\n",
    "P[(A,B)\\rightarrow(A',B')]=\n",
    "\\begin{cases}\n",
    "0, & \\text{for } |\\vec{AB}| > l_\\text{thresh}\\\\\n",
    "\\exp{(-\\beta K |\\vec{AB}|²)},  & \\text{for } |\\vec{AB}| \\leq l_\\text{thresh}\n",
    "\\end{cases}\n",
    "$$\n",
    "\n",
    "Where $\\beta$ is meant to represent thermal energy, or some energy coefficient threshold. "
   ]
  },
  {
   "cell_type": "markdown",
   "metadata": {},
   "source": []
  }
 ],
 "metadata": {
  "kernelspec": {
   "display_name": "base",
   "language": "python",
   "name": "python3"
  },
  "language_info": {
   "codemirror_mode": {
    "name": "ipython",
    "version": 3
   },
   "file_extension": ".py",
   "mimetype": "text/x-python",
   "name": "python",
   "nbconvert_exporter": "python",
   "pygments_lexer": "ipython3",
   "version": "3.9.13"
  },
  "toc": {
   "base_numbering": 1,
   "nav_menu": {},
   "number_sections": true,
   "sideBar": true,
   "skip_h1_title": false,
   "title_cell": "Table of Contents",
   "title_sidebar": "Contents",
   "toc_cell": false,
   "toc_position": {},
   "toc_section_display": true,
   "toc_window_display": false
  },
  "vscode": {
   "interpreter": {
    "hash": "09d9bfdd3240a83075f582f8b25e4994178e1276306cc59b7dbb5cde090bf3e5"
   }
  }
 },
 "nbformat": 4,
 "nbformat_minor": 2
}
