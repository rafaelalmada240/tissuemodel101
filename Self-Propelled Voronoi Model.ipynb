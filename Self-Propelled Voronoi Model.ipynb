{
 "cells": [
  {
   "cell_type": "markdown",
   "metadata": {},
   "source": [
    "Import some possible required packages"
   ]
  },
  {
   "cell_type": "code",
   "execution_count": null,
   "metadata": {
    "ExecuteTime": {
     "end_time": "2022-12-28T18:00:07.093370Z",
     "start_time": "2022-12-28T17:59:39.108428Z"
    }
   },
   "outputs": [],
   "source": [
    "import numpy as np\n",
    "import matplotlib.pyplot as plt\n",
    "import scipy as scp\n",
    "from scipy.spatial import Voronoi, voronoi_plot_2d\n",
    "from scipy.interpolate import interp2d, LinearNDInterpolator\n",
    "import movies_from_plots as mfp\n",
    "import selfpropelledparticlevoronoi as sppv\n",
    "import pathlib\n",
    "from scipy import ndimage as nd \n",
    "import h5py as h5\n",
    "import importlib"
   ]
  },
  {
   "cell_type": "code",
   "execution_count": null,
   "metadata": {},
   "outputs": [],
   "source": [
    "importlib.reload(mfp)\n",
    "importlib.reload(sppv)"
   ]
  },
  {
   "cell_type": "markdown",
   "metadata": {},
   "source": [
    "We can make a regular (crystalline) lattice by following a \"Bravais lattice\" - like approach, where the lattice is a set of translations of points in 2D,\n",
    "\n",
    "$R =  \\sum_{i}{n_i \\vec{a}_i} $\n",
    "\n",
    "Where $n_i$ is an integer and $a_i$ is a basis vector of the lattice space. Our approach is slightly different, as we use nonintegers, that can be represented as \n",
    "\n",
    "$$ R = A \\vec{u} $$\n",
    "\n",
    "Where the columns of $A$ correspond to our basis vectors, and $\\vec{u}$ is a vector of coordinates such that \n",
    "\n",
    "$u_i = n_i \\Delta x$ \n",
    "\n",
    "where $\\Delta x$ is the interval between the points such that all grid elements are equally spaced."
   ]
  },
  {
   "cell_type": "code",
   "execution_count": null,
   "metadata": {},
   "outputs": [],
   "source": []
  },
  {
   "cell_type": "markdown",
   "metadata": {},
   "source": [
    "A model for T1 transition might possibly be:\n",
    "\n",
    "Consider a graph with regions $R = \\{R_\\mu\\}$, vertices $V = \\{v_i\\}$, and edges $E = \\{(v_i,v_j)| v_i, v_j \\in V\\}$ where a region $R_\\mu = \\{(v_i,c_\\mu)|v_i \\in V\\}$ for a center $c_\\mu$\n",
    "\n",
    "for 2 vertices $A$ and $B$, if their distance $|\\vec{AB}|$ is less than or equal to a threshold value, they change their coordinate positions to: \n",
    "\n",
    "$$\n",
    "(A',B') = \\frac{\\sqrt{3}}{2}(R_{\\pm \\pi/2}\\vec{AB}+1/2\\vec{AB}) +\\vec{A}\n",
    "$$\n",
    "\n",
    "The transition can be modelled in two different ways:\n",
    "\n",
    "1 - We describe a simple discrete model where \n",
    "\n",
    "$$\n",
    "P[(A,B)\\rightarrow(A',B')]=\n",
    "\\begin{cases}\n",
    "0, & \\text{for } |\\vec{AB}| > l_\\text{thresh}\\\\\n",
    "1,  & \\text{for } |\\vec{AB}| \\leq l_\\text{thresh}\n",
    "\\end{cases}\n",
    "$$\n",
    "\n",
    "2 - Or we can follow a more continuous, physically inspired approach, where:\n",
    "\n",
    "$$\n",
    "P[(A,B)\\rightarrow(A',B')] \\propto \\exp{(-\\beta k |\\vec{AB}|²)}\n",
    "$$\n",
    "\n",
    "3 - A mixed approach could be helpful to ensure the transition occurs at a reasonable rate.\n",
    "\n",
    "$$\n",
    "P[(A,B)\\rightarrow(A',B')]=\n",
    "\\begin{cases}\n",
    "0, & \\text{for } |\\vec{AB}| > l_\\text{thresh}\\\\\n",
    "\\exp{(-\\beta k |\\vec{AB}|²)},  & \\text{for } |\\vec{AB}| \\leq l_\\text{thresh}\n",
    "\\end{cases}\n",
    "$$\n",
    "\n",
    "Where $\\beta$ is meant to represent thermal energy, or some energy coefficient threshold. \n",
    "\n",
    "If we impose the criteria that \n",
    "\n",
    "$P[(A,B)\\rightarrow(A',B')| \\leq l_\\text{thresh}] \\geq  0.5$ \n",
    "\n",
    "we have the following inequality:\n",
    "\n",
    "$$\\beta \\leq  \\frac{\\ln(2)}{k l_\\text{thresh}²} = \\beta_0$$\n",
    "\n",
    "\n",
    "Possibly it is also necessary to change regions by considering the following statement.\n",
    "\n",
    "A vertex $v_i$ has a neighbourhood of vertices $N_i$. The set of regions adjacent to $v_i$ is given by:\n",
    "\n",
    "$$\n",
    "S_i = \\bigcup_{j,k \\in N_i}{S_j\\cap S_k}\n",
    "$$"
   ]
  },
  {
   "cell_type": "code",
   "execution_count": null,
   "metadata": {},
   "outputs": [],
   "source": []
  },
  {
   "cell_type": "markdown",
   "metadata": {},
   "source": [
    "The model implemented is of the form:\n",
    "\n",
    "For a center $c_i$\n",
    "\n",
    "$$F_i = \\sum_{v_\\mu \\in N_i}{f_{\\mu i}}$$\n",
    "\n",
    "For a vertex $v_\\mu$\n",
    "$$F_\\mu = \\sum_{c_i \\in N_\\mu}{f_{i\\mu}} + \\sum_{v_\\nu \\in N_\\mu}{f_{\\nu\\mu}}$$ \n",
    "\n",
    "Where \n",
    "\n",
    "$$f_{ab} = -k(r_{ab}-r_0)\\hat{n}_{ab}$$"
   ]
  },
  {
   "cell_type": "code",
   "execution_count": 1,
   "metadata": {},
   "outputs": [
    {
     "name": "stdout",
     "output_type": "stream",
     "text": [
      "45\n",
      "0.096829875270601\n",
      "done\n"
     ]
    }
   ],
   "source": [
    "import runspringnetsimul as rsns"
   ]
  },
  {
   "cell_type": "code",
   "execution_count": 1,
   "metadata": {},
   "outputs": [
    {
     "data": {
      "text/plain": [
       "2"
      ]
     },
     "execution_count": 1,
     "metadata": {},
     "output_type": "execute_result"
    }
   ],
   "source": [
    "import makefiguresandgraphics as mfag\n",
    "#mfag\n",
    "17%15"
   ]
  },
  {
   "cell_type": "code",
   "execution_count": 2,
   "metadata": {},
   "outputs": [
    {
     "name": "stderr",
     "output_type": "stream",
     "text": [
      "OpenCV: FFMPEG: tag 0x58564944/'DIVX' is not supported with codec id 12 and format 'mp4 / MP4 (MPEG-4 Part 14)'\n",
      "OpenCV: FFMPEG: fallback to use tag 0x7634706d/'mp4v'\n"
     ]
    }
   ],
   "source": [
    "import makenetworkmovie as mnwm\n",
    "#importlib.reload(mnwm)"
   ]
  },
  {
   "cell_type": "code",
   "execution_count": null,
   "metadata": {},
   "outputs": [],
   "source": [
    "import movieforcefieldmovie as mffm\n",
    "mffm"
   ]
  },
  {
   "cell_type": "code",
   "execution_count": null,
   "metadata": {},
   "outputs": [],
   "source": [
    "filename = input('Video file name (with .mp4 included): ')\n",
    "img_array,size = mfp.loadframe(0,500,1,'f')\n",
    "mfp.savevideo(img_array,filename,size,'f')"
   ]
  },
  {
   "cell_type": "markdown",
   "metadata": {},
   "source": [
    "# Insert test code here"
   ]
  },
  {
   "cell_type": "markdown",
   "metadata": {},
   "source": [
    "## Make network"
   ]
  }
 ],
 "metadata": {
  "kernelspec": {
   "display_name": "Python 3 (ipykernel)",
   "language": "python",
   "name": "python3"
  },
  "language_info": {
   "codemirror_mode": {
    "name": "ipython",
    "version": 3
   },
   "file_extension": ".py",
   "mimetype": "text/x-python",
   "name": "python",
   "nbconvert_exporter": "python",
   "pygments_lexer": "ipython3",
   "version": "3.9.13"
  },
  "toc": {
   "base_numbering": 1,
   "nav_menu": {},
   "number_sections": true,
   "sideBar": true,
   "skip_h1_title": false,
   "title_cell": "Table of Contents",
   "title_sidebar": "Contents",
   "toc_cell": false,
   "toc_position": {},
   "toc_section_display": true,
   "toc_window_display": false
  },
  "vscode": {
   "interpreter": {
    "hash": "09d9bfdd3240a83075f582f8b25e4994178e1276306cc59b7dbb5cde090bf3e5"
   }
  }
 },
 "nbformat": 4,
 "nbformat_minor": 2
}
