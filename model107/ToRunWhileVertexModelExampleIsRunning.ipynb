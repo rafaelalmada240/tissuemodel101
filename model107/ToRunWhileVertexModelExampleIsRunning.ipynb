{
 "cells": [
  {
   "cell_type": "code",
   "execution_count": 1,
   "metadata": {},
   "outputs": [
    {
     "name": "stdout",
     "output_type": "stream",
     "text": [
      "tissue number: 1\n",
      "225\n",
      "0.4157983141034338\n",
      "0.28024618992478645\n",
      "0.0016666666666666668\n",
      "0.012025060781646658\n",
      "tissue number: 2\n",
      "225\n",
      "0.5505894715735751\n",
      "0.6218638018370294\n",
      "0.0016666666666666668\n",
      "0.009081176190511032\n",
      "tissue number: 3\n",
      "225\n",
      "0.4648607696904531\n",
      "0.38153612688807514\n",
      "0.0016666666666666668\n",
      "0.010755908706448726\n",
      "tissue number: 4\n",
      "225\n",
      "0.47480099858428326\n",
      "0.3857087527753874\n",
      "0.0016666666666666668\n",
      "0.01053072764149302\n",
      "tissue number: 5\n",
      "225\n",
      "0.755493895380305\n",
      "2.163269168708756\n",
      "0.0016666666666666668\n",
      "0.0066181871628268685\n",
      "tissue number: 6\n",
      "225\n",
      "0.5478287699466434\n",
      "0.5807655305400882\n",
      "0.0016666666666666668\n",
      "0.009126939427600676\n",
      "tissue number: 7\n",
      "225\n",
      "0.5051443604555943\n",
      "0.4715036102580986\n",
      "0.0016666666666666668\n",
      "0.00989816058817415\n",
      "tissue number: 8\n",
      "225\n",
      "0.4979357878359627\n",
      "0.5175576144125618\n",
      "0.0016666666666666668\n",
      "0.010041455388716052\n",
      "tissue number: 9\n",
      "225\n",
      "0.5509401522456355\n",
      "0.6608254068945238\n",
      "0.0016666666666666668\n",
      "0.00907539590211381\n",
      "tissue number: 10\n",
      "225\n",
      "0.6995519730010079\n",
      "0.32409670494023246\n",
      "0.0016666666666666668\n",
      "0.007147431774869421\n"
     ]
    },
    {
     "name": "stderr",
     "output_type": "stream",
     "text": [
      "/home/rafael/Documents/tissuemodelling/SpringNetworkSimul/findconnections.py:6: RuntimeWarning: overflow encountered in scalar power\n",
      "  return np.sqrt(np.sum(vec**2))\n",
      "/home/rafael/Documents/tissuemodelling/SpringNetworkSimul/selfpropelledparticlevoronoi.py:346: RuntimeWarning: invalid value encountered in scalar subtract\n",
      "  dEdx = 0.5*(Ev2x-Ev1x)/h\n",
      "/home/rafael/Documents/tissuemodelling/SpringNetworkSimul/selfpropelledparticlevoronoi.py:347: RuntimeWarning: invalid value encountered in scalar subtract\n",
      "  dEdy = 0.5*(Ev2y-Ev1y)/h\n",
      "/home/rafael/Documents/tissuemodelling/SpringNetworkSimul/topologicaltransitions.py:243: RuntimeWarning: overflow encountered in square\n",
      "  list_len.append(np.sqrt(np.sum(deltax**2)))\n"
     ]
    }
   ],
   "source": [
    "import Run1WoundHeal"
   ]
  },
  {
   "cell_type": "code",
   "execution_count": null,
   "metadata": {},
   "outputs": [],
   "source": []
  }
 ],
 "metadata": {
  "kernelspec": {
   "display_name": "Python 3",
   "language": "python",
   "name": "python3"
  },
  "language_info": {
   "codemirror_mode": {
    "name": "ipython",
    "version": 3
   },
   "file_extension": ".py",
   "mimetype": "text/x-python",
   "name": "python",
   "nbconvert_exporter": "python",
   "pygments_lexer": "ipython3",
   "version": "3.10.6"
  },
  "orig_nbformat": 4
 },
 "nbformat": 4,
 "nbformat_minor": 2
}
